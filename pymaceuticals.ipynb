{
 "cells": [
  {
   "cell_type": "markdown",
   "metadata": {},
   "source": [
    "## Observations and Insights "
   ]
  },
  {
   "cell_type": "markdown",
   "metadata": {},
   "source": []
  },
  {
   "cell_type": "code",
   "execution_count": null,
   "metadata": {},
   "outputs": [],
   "source": [
    "# %matplotlib notebook"
   ]
  },
  {
   "cell_type": "code",
   "execution_count": 1,
   "metadata": {},
   "outputs": [
    {
     "data": {
      "text/html": [
       "<div>\n",
       "<style scoped>\n",
       "    .dataframe tbody tr th:only-of-type {\n",
       "        vertical-align: middle;\n",
       "    }\n",
       "\n",
       "    .dataframe tbody tr th {\n",
       "        vertical-align: top;\n",
       "    }\n",
       "\n",
       "    .dataframe thead th {\n",
       "        text-align: right;\n",
       "    }\n",
       "</style>\n",
       "<table border=\"1\" class=\"dataframe\">\n",
       "  <thead>\n",
       "    <tr style=\"text-align: right;\">\n",
       "      <th></th>\n",
       "      <th>Mouse ID</th>\n",
       "      <th>Drug Regimen</th>\n",
       "      <th>Sex</th>\n",
       "      <th>Age_months</th>\n",
       "      <th>Weight (g)</th>\n",
       "      <th>Timepoint</th>\n",
       "      <th>Tumor Volume (mm3)</th>\n",
       "      <th>Metastatic Sites</th>\n",
       "    </tr>\n",
       "  </thead>\n",
       "  <tbody>\n",
       "    <tr>\n",
       "      <th>0</th>\n",
       "      <td>k403</td>\n",
       "      <td>Ramicane</td>\n",
       "      <td>Male</td>\n",
       "      <td>21</td>\n",
       "      <td>16</td>\n",
       "      <td>0</td>\n",
       "      <td>45.000000</td>\n",
       "      <td>0.0</td>\n",
       "    </tr>\n",
       "    <tr>\n",
       "      <th>1</th>\n",
       "      <td>k403</td>\n",
       "      <td>Ramicane</td>\n",
       "      <td>Male</td>\n",
       "      <td>21</td>\n",
       "      <td>16</td>\n",
       "      <td>5</td>\n",
       "      <td>38.825898</td>\n",
       "      <td>0.0</td>\n",
       "    </tr>\n",
       "    <tr>\n",
       "      <th>2</th>\n",
       "      <td>k403</td>\n",
       "      <td>Ramicane</td>\n",
       "      <td>Male</td>\n",
       "      <td>21</td>\n",
       "      <td>16</td>\n",
       "      <td>10</td>\n",
       "      <td>35.014271</td>\n",
       "      <td>1.0</td>\n",
       "    </tr>\n",
       "    <tr>\n",
       "      <th>3</th>\n",
       "      <td>k403</td>\n",
       "      <td>Ramicane</td>\n",
       "      <td>Male</td>\n",
       "      <td>21</td>\n",
       "      <td>16</td>\n",
       "      <td>15</td>\n",
       "      <td>34.223992</td>\n",
       "      <td>1.0</td>\n",
       "    </tr>\n",
       "    <tr>\n",
       "      <th>4</th>\n",
       "      <td>k403</td>\n",
       "      <td>Ramicane</td>\n",
       "      <td>Male</td>\n",
       "      <td>21</td>\n",
       "      <td>16</td>\n",
       "      <td>20</td>\n",
       "      <td>32.997729</td>\n",
       "      <td>1.0</td>\n",
       "    </tr>\n",
       "  </tbody>\n",
       "</table>\n",
       "</div>"
      ],
      "text/plain": [
       "  Mouse ID Drug Regimen   Sex  Age_months  Weight (g)  Timepoint  \\\n",
       "0     k403     Ramicane  Male          21          16          0   \n",
       "1     k403     Ramicane  Male          21          16          5   \n",
       "2     k403     Ramicane  Male          21          16         10   \n",
       "3     k403     Ramicane  Male          21          16         15   \n",
       "4     k403     Ramicane  Male          21          16         20   \n",
       "\n",
       "   Tumor Volume (mm3)  Metastatic Sites  \n",
       "0           45.000000               0.0  \n",
       "1           38.825898               0.0  \n",
       "2           35.014271               1.0  \n",
       "3           34.223992               1.0  \n",
       "4           32.997729               1.0  "
      ]
     },
     "execution_count": 1,
     "metadata": {},
     "output_type": "execute_result"
    }
   ],
   "source": [
    "# Dependencies and Setup\n",
    "import matplotlib.pyplot as plt\n",
    "import pandas as pd\n",
    "import scipy.stats as st\n",
    "import numpy as np\n",
    "from scipy.stats import linregress\n",
    "\n",
    "# Study data files\n",
    "mouse_metadata_path = \"data/Mouse_metadata.csv\"\n",
    "study_results_path = \"data/Study_results.csv\"\n",
    "\n",
    "# Read the mouse data and the study results\n",
    "mouse_metadata = pd.read_csv(mouse_metadata_path)\n",
    "study_results = pd.read_csv(study_results_path)\n",
    "\n",
    "# Drop duplicates rows (5 rows were dropped)\n",
    "clean_results = study_results.groupby([\"Mouse ID\", \"Timepoint\"]).mean()\n",
    "clean_results\n",
    "\n",
    "# The group function changes the index to both \"Mouse ID\" and \"Timepoint\"\n",
    "# This removes the indexes to create a \"flat\" index df\n",
    "flat_index = clean_results.reset_index()\n",
    "\n",
    "# Combine the data into a single dataset\n",
    "merge_data = pd.merge(mouse_metadata, flat_index, how=\"left\", on=[\"Mouse ID\"])\n",
    "\n",
    "# Display the data table for preview\n",
    "merge_data.head()"
   ]
  },
  {
   "cell_type": "markdown",
   "metadata": {},
   "source": [
    "## Summary Statistics"
   ]
  },
  {
   "cell_type": "code",
   "execution_count": 2,
   "metadata": {},
   "outputs": [
    {
     "data": {
      "text/html": [
       "<div>\n",
       "<style scoped>\n",
       "    .dataframe tbody tr th:only-of-type {\n",
       "        vertical-align: middle;\n",
       "    }\n",
       "\n",
       "    .dataframe tbody tr th {\n",
       "        vertical-align: top;\n",
       "    }\n",
       "\n",
       "    .dataframe thead tr th {\n",
       "        text-align: left;\n",
       "    }\n",
       "\n",
       "    .dataframe thead tr:last-of-type th {\n",
       "        text-align: right;\n",
       "    }\n",
       "</style>\n",
       "<table border=\"1\" class=\"dataframe\">\n",
       "  <thead>\n",
       "    <tr>\n",
       "      <th></th>\n",
       "      <th colspan=\"5\" halign=\"left\">Tumor Volume (mm3)</th>\n",
       "    </tr>\n",
       "    <tr>\n",
       "      <th></th>\n",
       "      <th>mean</th>\n",
       "      <th>median</th>\n",
       "      <th>var</th>\n",
       "      <th>std</th>\n",
       "      <th>sem</th>\n",
       "    </tr>\n",
       "    <tr>\n",
       "      <th>Drug Regimen</th>\n",
       "      <th></th>\n",
       "      <th></th>\n",
       "      <th></th>\n",
       "      <th></th>\n",
       "      <th></th>\n",
       "    </tr>\n",
       "  </thead>\n",
       "  <tbody>\n",
       "    <tr>\n",
       "      <th>Capomulin</th>\n",
       "      <td>40.675741</td>\n",
       "      <td>41.557809</td>\n",
       "      <td>24.947764</td>\n",
       "      <td>4.994774</td>\n",
       "      <td>0.329346</td>\n",
       "    </tr>\n",
       "    <tr>\n",
       "      <th>Ceftamin</th>\n",
       "      <td>52.591172</td>\n",
       "      <td>51.776157</td>\n",
       "      <td>39.290177</td>\n",
       "      <td>6.268188</td>\n",
       "      <td>0.469821</td>\n",
       "    </tr>\n",
       "    <tr>\n",
       "      <th>Infubinol</th>\n",
       "      <td>52.884795</td>\n",
       "      <td>51.820584</td>\n",
       "      <td>43.128684</td>\n",
       "      <td>6.567243</td>\n",
       "      <td>0.492236</td>\n",
       "    </tr>\n",
       "    <tr>\n",
       "      <th>Ketapril</th>\n",
       "      <td>55.235638</td>\n",
       "      <td>53.698743</td>\n",
       "      <td>68.553577</td>\n",
       "      <td>8.279709</td>\n",
       "      <td>0.603860</td>\n",
       "    </tr>\n",
       "    <tr>\n",
       "      <th>Naftisol</th>\n",
       "      <td>54.331565</td>\n",
       "      <td>52.509285</td>\n",
       "      <td>66.173479</td>\n",
       "      <td>8.134708</td>\n",
       "      <td>0.596466</td>\n",
       "    </tr>\n",
       "    <tr>\n",
       "      <th>Placebo</th>\n",
       "      <td>54.033581</td>\n",
       "      <td>52.288934</td>\n",
       "      <td>61.168083</td>\n",
       "      <td>7.821003</td>\n",
       "      <td>0.581331</td>\n",
       "    </tr>\n",
       "    <tr>\n",
       "      <th>Propriva</th>\n",
       "      <td>52.388228</td>\n",
       "      <td>50.833737</td>\n",
       "      <td>43.163594</td>\n",
       "      <td>6.569901</td>\n",
       "      <td>0.526013</td>\n",
       "    </tr>\n",
       "    <tr>\n",
       "      <th>Ramicane</th>\n",
       "      <td>40.216745</td>\n",
       "      <td>40.673236</td>\n",
       "      <td>23.486704</td>\n",
       "      <td>4.846308</td>\n",
       "      <td>0.320955</td>\n",
       "    </tr>\n",
       "    <tr>\n",
       "      <th>Stelasyn</th>\n",
       "      <td>54.233149</td>\n",
       "      <td>52.431737</td>\n",
       "      <td>59.450562</td>\n",
       "      <td>7.710419</td>\n",
       "      <td>0.573111</td>\n",
       "    </tr>\n",
       "    <tr>\n",
       "      <th>Zoniferol</th>\n",
       "      <td>53.236507</td>\n",
       "      <td>51.818479</td>\n",
       "      <td>48.533355</td>\n",
       "      <td>6.966589</td>\n",
       "      <td>0.516398</td>\n",
       "    </tr>\n",
       "  </tbody>\n",
       "</table>\n",
       "</div>"
      ],
      "text/plain": [
       "             Tumor Volume (mm3)                                          \n",
       "                           mean     median        var       std       sem\n",
       "Drug Regimen                                                             \n",
       "Capomulin             40.675741  41.557809  24.947764  4.994774  0.329346\n",
       "Ceftamin              52.591172  51.776157  39.290177  6.268188  0.469821\n",
       "Infubinol             52.884795  51.820584  43.128684  6.567243  0.492236\n",
       "Ketapril              55.235638  53.698743  68.553577  8.279709  0.603860\n",
       "Naftisol              54.331565  52.509285  66.173479  8.134708  0.596466\n",
       "Placebo               54.033581  52.288934  61.168083  7.821003  0.581331\n",
       "Propriva              52.388228  50.833737  43.163594  6.569901  0.526013\n",
       "Ramicane              40.216745  40.673236  23.486704  4.846308  0.320955\n",
       "Stelasyn              54.233149  52.431737  59.450562  7.710419  0.573111\n",
       "Zoniferol             53.236507  51.818479  48.533355  6.966589  0.516398"
      ]
     },
     "execution_count": 2,
     "metadata": {},
     "output_type": "execute_result"
    }
   ],
   "source": [
    "# Generate a summary statistics table of mean, median, variance, standard deviation, and SEM of the tumor volume for \n",
    "# each regimen\n",
    "\n",
    "# Drop the unnecessary columns\n",
    "trim_df = merge_data[[\"Drug Regimen\", \"Tumor Volume (mm3)\"]]\n",
    "\n",
    "# Adapted from Pandas documentation on the DataFrameGroupBy.agg function\n",
    "summary_stats = trim_df.groupby(\"Drug Regimen\").agg(['mean', 'median', 'var', 'std', 'sem'])\n",
    "summary_stats"
   ]
  },
  {
   "cell_type": "markdown",
   "metadata": {},
   "source": [
    "## Bar and Pie Charts"
   ]
  },
  {
   "cell_type": "code",
   "execution_count": 3,
   "metadata": {
    "scrolled": true
   },
   "outputs": [
    {
     "data": {
      "image/png": "[encoded data removed]",
      "text/plain": [
       "<Figure size 432x288 with 1 Axes>"
      ]
     },
     "metadata": {
      "needs_background": "light"
     },
     "output_type": "display_data"
    }
   ],
   "source": [
    "# Generate a bar plot showing the total number of mice for each treatment throughout the course of the study using pandas.\n",
    "\n",
    "# Get the relevant information\n",
    "mice_df = merge_data.groupby([\"Mouse ID\", \"Drug Regimen\"]).mean().reset_index()\n",
    "\n",
    "# Chart setup\n",
    "mice_plot = mice_df[\"Drug Regimen\"].value_counts().plot.bar().set(xlabel=\"Drug Regimen\", \n",
    "                ylabel=\"Number of Mice Tested\", title=\"Mice Tested Per Treatment Regimen\")"
   ]
  },
  {
   "cell_type": "code",
   "execution_count": 4,
   "metadata": {},
   "outputs": [
    {
     "data": {
      "image/png": "[encoded data removed]",
      "text/plain": [
       "<Figure size 432x288 with 1 Axes>"
      ]
     },
     "metadata": {
      "needs_background": "light"
     },
     "output_type": "display_data"
    }
   ],
   "source": [
    "# Generate a bar plot showing the total number of mice for each treatment throughout the course of the study using pyplot.\n",
    "\n",
    "# Get the relevant information by putting each axis into a list\n",
    "y_axis = mice_df[\"Drug Regimen\"].value_counts().tolist()\n",
    "x_axis = mice_df[\"Drug Regimen\"].value_counts().index.tolist()\n",
    "\n",
    "# Define chart title and axis labels\n",
    "plt.title(\"Mice Tested Per Treatment Regimen\")\n",
    "plt.xlabel(\"Treatment Regimen\")\n",
    "plt.ylabel(\"Number of Mice Tested\")\n",
    "\n",
    "# Generate the chart and format it\n",
    "plt.bar(x_axis, y_axis, width=0.52)\n",
    "plt.xticks(rotation=90)\n",
    "plt.show()"
   ]
  },
  {
   "cell_type": "code",
   "execution_count": 5,
   "metadata": {},
   "outputs": [
    {
     "data": {
      "text/plain": [
       "<matplotlib.axes._subplots.AxesSubplot at 0x1f8783657b8>"
      ]
     },
     "execution_count": 5,
     "metadata": {},
     "output_type": "execute_result"
    },
    {
     "data": {
      "image/png": "[encoded data removed]",
      "text/plain": [
       "<Figure size 432x288 with 1 Axes>"
      ]
     },
     "metadata": {},
     "output_type": "display_data"
    }
   ],
   "source": [
    "# Generate a pie plot showing the distribution of female versus male mice using pandas\n",
    "\n",
    "# Get the relevant data for the chart\n",
    "mice_sex = merge_data[[\"Mouse ID\", \"Sex\"]]\n",
    "mice_sex.groupby(\"Sex\")\n",
    "mice_sex[\"Sex\"].value_counts()\n",
    "\n",
    "# Generate the chart and format it\n",
    "mice_sex[\"Sex\"].value_counts().plot.pie(autopct='%1.1f%%',title=\"Ratio of Male to Female Mice in the Study\")"
   ]
  },
  {
   "cell_type": "code",
   "execution_count": 6,
   "metadata": {},
   "outputs": [
    {
     "data": {
      "text/plain": [
       "<matplotlib.axes._subplots.AxesSubplot at 0x1f8783b5cf8>"
      ]
     },
     "execution_count": 6,
     "metadata": {},
     "output_type": "execute_result"
    },
    {
     "data": {
      "image/png": "[encoded data removed]",
      "text/plain": [
       "<Figure size 432x288 with 1 Axes>"
      ]
     },
     "metadata": {},
     "output_type": "display_data"
    }
   ],
   "source": [
    "#### I think this is the correct response - it uses actual number of mice - not timepoint counts\n",
    "mouse_metadata[\"Sex\"].value_counts().plot.pie(autopct='%1.1f%%',title=\"Ratio of Male to Female Mice in the Study\")"
   ]
  },
  {
   "cell_type": "code",
   "execution_count": 7,
   "metadata": {},
   "outputs": [
    {
     "data": {
      "text/plain": [
       "Male      958\n",
       "Female    930\n",
       "Name: Sex, dtype: int64"
      ]
     },
     "execution_count": 7,
     "metadata": {},
     "output_type": "execute_result"
    }
   ],
   "source": [
    "mice_sex[\"Sex\"].value_counts()"
   ]
  },
  {
   "cell_type": "code",
   "execution_count": 8,
   "metadata": {},
   "outputs": [
    {
     "data": {
      "image/png": "[encoded data removed]",
      "text/plain": [
       "<Figure size 432x288 with 1 Axes>"
      ]
     },
     "metadata": {},
     "output_type": "display_data"
    }
   ],
   "source": [
    "# Generate a pie plot showing the distribution of female versus male mice using pyplot\n",
    "\n",
    "# Get the relevant information by putting each axis into a list\n",
    "y_axis = mice_sex[\"Sex\"].value_counts().tolist()\n",
    "x_axis = mice_sex[\"Sex\"].value_counts().index.tolist()\n",
    "\n",
    "# Define chart title and axis labels\n",
    "plt.title(\"Ratio of Male to Female Mice in the Study\")\n",
    "plt.ylabel(\"Sex\")\n",
    "\n",
    "# Generate the chart and format it\n",
    "plt.pie(y_axis, labels=x_axis, autopct=\"%1.1f%%\")\n",
    "plt.show()"
   ]
  },
  {
   "cell_type": "markdown",
   "metadata": {},
   "source": [
    "## Quartiles, Outliers and Boxplots"
   ]
  },
  {
   "cell_type": "code",
   "execution_count": 9,
   "metadata": {},
   "outputs": [
    {
     "data": {
      "text/html": [
       "<div>\n",
       "<style scoped>\n",
       "    .dataframe tbody tr th:only-of-type {\n",
       "        vertical-align: middle;\n",
       "    }\n",
       "\n",
       "    .dataframe tbody tr th {\n",
       "        vertical-align: top;\n",
       "    }\n",
       "\n",
       "    .dataframe thead th {\n",
       "        text-align: right;\n",
       "    }\n",
       "</style>\n",
       "<table border=\"1\" class=\"dataframe\">\n",
       "  <thead>\n",
       "    <tr style=\"text-align: right;\">\n",
       "      <th></th>\n",
       "      <th>Mouse ID</th>\n",
       "      <th>Drug Regimen</th>\n",
       "      <th>Sex</th>\n",
       "      <th>Age_months</th>\n",
       "      <th>Weight (g)</th>\n",
       "      <th>Timepoint</th>\n",
       "      <th>Tumor Volume (mm3)</th>\n",
       "      <th>Metastatic Sites</th>\n",
       "    </tr>\n",
       "  </thead>\n",
       "  <tbody>\n",
       "    <tr>\n",
       "      <th>9</th>\n",
       "      <td>k403</td>\n",
       "      <td>Ramicane</td>\n",
       "      <td>Male</td>\n",
       "      <td>21</td>\n",
       "      <td>16</td>\n",
       "      <td>45</td>\n",
       "      <td>22.050126</td>\n",
       "      <td>1.0</td>\n",
       "    </tr>\n",
       "    <tr>\n",
       "      <th>19</th>\n",
       "      <td>s185</td>\n",
       "      <td>Capomulin</td>\n",
       "      <td>Female</td>\n",
       "      <td>3</td>\n",
       "      <td>17</td>\n",
       "      <td>45</td>\n",
       "      <td>23.343598</td>\n",
       "      <td>1.0</td>\n",
       "    </tr>\n",
       "    <tr>\n",
       "      <th>29</th>\n",
       "      <td>x401</td>\n",
       "      <td>Capomulin</td>\n",
       "      <td>Female</td>\n",
       "      <td>16</td>\n",
       "      <td>15</td>\n",
       "      <td>45</td>\n",
       "      <td>28.484033</td>\n",
       "      <td>0.0</td>\n",
       "    </tr>\n",
       "    <tr>\n",
       "      <th>39</th>\n",
       "      <td>m601</td>\n",
       "      <td>Capomulin</td>\n",
       "      <td>Male</td>\n",
       "      <td>22</td>\n",
       "      <td>17</td>\n",
       "      <td>45</td>\n",
       "      <td>28.430964</td>\n",
       "      <td>1.0</td>\n",
       "    </tr>\n",
       "    <tr>\n",
       "      <th>49</th>\n",
       "      <td>g791</td>\n",
       "      <td>Ramicane</td>\n",
       "      <td>Male</td>\n",
       "      <td>11</td>\n",
       "      <td>16</td>\n",
       "      <td>45</td>\n",
       "      <td>29.128472</td>\n",
       "      <td>1.0</td>\n",
       "    </tr>\n",
       "    <tr>\n",
       "      <th>...</th>\n",
       "      <td>...</td>\n",
       "      <td>...</td>\n",
       "      <td>...</td>\n",
       "      <td>...</td>\n",
       "      <td>...</td>\n",
       "      <td>...</td>\n",
       "      <td>...</td>\n",
       "      <td>...</td>\n",
       "    </tr>\n",
       "    <tr>\n",
       "      <th>1792</th>\n",
       "      <td>x822</td>\n",
       "      <td>Ceftamin</td>\n",
       "      <td>Male</td>\n",
       "      <td>3</td>\n",
       "      <td>29</td>\n",
       "      <td>45</td>\n",
       "      <td>61.386660</td>\n",
       "      <td>3.0</td>\n",
       "    </tr>\n",
       "    <tr>\n",
       "      <th>1808</th>\n",
       "      <td>y163</td>\n",
       "      <td>Infubinol</td>\n",
       "      <td>Female</td>\n",
       "      <td>17</td>\n",
       "      <td>27</td>\n",
       "      <td>45</td>\n",
       "      <td>67.685569</td>\n",
       "      <td>3.0</td>\n",
       "    </tr>\n",
       "    <tr>\n",
       "      <th>1840</th>\n",
       "      <td>y769</td>\n",
       "      <td>Ceftamin</td>\n",
       "      <td>Female</td>\n",
       "      <td>6</td>\n",
       "      <td>27</td>\n",
       "      <td>45</td>\n",
       "      <td>68.594745</td>\n",
       "      <td>4.0</td>\n",
       "    </tr>\n",
       "    <tr>\n",
       "      <th>1850</th>\n",
       "      <td>y865</td>\n",
       "      <td>Ceftamin</td>\n",
       "      <td>Male</td>\n",
       "      <td>23</td>\n",
       "      <td>26</td>\n",
       "      <td>45</td>\n",
       "      <td>64.729837</td>\n",
       "      <td>3.0</td>\n",
       "    </tr>\n",
       "    <tr>\n",
       "      <th>1867</th>\n",
       "      <td>z581</td>\n",
       "      <td>Infubinol</td>\n",
       "      <td>Female</td>\n",
       "      <td>24</td>\n",
       "      <td>25</td>\n",
       "      <td>45</td>\n",
       "      <td>62.754451</td>\n",
       "      <td>3.0</td>\n",
       "    </tr>\n",
       "  </tbody>\n",
       "</table>\n",
       "<p>63 rows × 8 columns</p>\n",
       "</div>"
      ],
      "text/plain": [
       "     Mouse ID Drug Regimen     Sex  Age_months  Weight (g)  Timepoint  \\\n",
       "9        k403     Ramicane    Male          21          16         45   \n",
       "19       s185    Capomulin  Female           3          17         45   \n",
       "29       x401    Capomulin  Female          16          15         45   \n",
       "39       m601    Capomulin    Male          22          17         45   \n",
       "49       g791     Ramicane    Male          11          16         45   \n",
       "...       ...          ...     ...         ...         ...        ...   \n",
       "1792     x822     Ceftamin    Male           3          29         45   \n",
       "1808     y163    Infubinol  Female          17          27         45   \n",
       "1840     y769     Ceftamin  Female           6          27         45   \n",
       "1850     y865     Ceftamin    Male          23          26         45   \n",
       "1867     z581    Infubinol  Female          24          25         45   \n",
       "\n",
       "      Tumor Volume (mm3)  Metastatic Sites  \n",
       "9              22.050126               1.0  \n",
       "19             23.343598               1.0  \n",
       "29             28.484033               0.0  \n",
       "39             28.430964               1.0  \n",
       "49             29.128472               1.0  \n",
       "...                  ...               ...  \n",
       "1792           61.386660               3.0  \n",
       "1808           67.685569               3.0  \n",
       "1840           68.594745               4.0  \n",
       "1850           64.729837               3.0  \n",
       "1867           62.754451               3.0  \n",
       "\n",
       "[63 rows x 8 columns]"
      ]
     },
     "execution_count": 9,
     "metadata": {},
     "output_type": "execute_result"
    }
   ],
   "source": [
    "# Calculate the final tumor volume of each mouse across four of the treatment regimens:  \n",
    "# Capomulin, Ramicane, Infubinol, and Ceftamin\n",
    "treatment_data = merge_data.loc[merge_data[\"Timepoint\"] == 45]\n",
    "treatment_data = treatment_data.loc[(treatment_data[\"Drug Regimen\"] == \"Capomulin\") | \n",
    "                                   (treatment_data[\"Drug Regimen\"] == \"Ramicane\") |\n",
    "                                   (treatment_data[\"Drug Regimen\"] == \"Infubinol\") |\n",
    "                                   (treatment_data[\"Drug Regimen\"] == \"Ceftamin\")\n",
    "                                   ]\n",
    "treatment_data"
   ]
  },
  {
   "cell_type": "code",
   "execution_count": 10,
   "metadata": {},
   "outputs": [],
   "source": [
    "# Convert the Drug Regimen series from the DataFrame to a list\n",
    "treatment_list = treatment_data[\"Drug Regimen\"].tolist()\n",
    "\n",
    "# Get a list that holds unique treatment names\n",
    "unique_treatments = treatment_data[\"Drug Regimen\"].unique().tolist()\n",
    "\n",
    "# Convert the tumor volume series from the DataFrame to a list\n",
    "tumor_list = treatment_data[\"Tumor Volume (mm3)\"].tolist()\n",
    "\n",
    "# Create empty list for each treatment to hold with tumor vol data (for plotting)\n",
    "ramicane = []\n",
    "capomulin = []\n",
    "infubinol = []\n",
    "ceftamin = []\n",
    "\n",
    "# Create for loop iterator\n",
    "i = 0\n",
    "\n",
    "# Loop through the treatment list and assign the tumor data to the respective treatment lists\n",
    "for x in treatment_list:\n",
    "    if unique_treatments[0] == treatment_list[i]:\n",
    "        ramicane.append(tumor_list[i])\n",
    "        i = i + 1\n",
    "    elif unique_treatments[1] == treatment_list[i]:\n",
    "        capomulin.append(tumor_list[i])\n",
    "        i = i + 1\n",
    "    elif unique_treatments[2] == treatment_list[i]:\n",
    "        infubinol.append(tumor_list[i])\n",
    "        i = i + 1\n",
    "    elif unique_treatments[3] == treatment_list[i]:\n",
    "        ceftamin.append(tumor_list[i])\n",
    "        i = i + 1"
   ]
  },
  {
   "cell_type": "code",
   "execution_count": 11,
   "metadata": {},
   "outputs": [
    {
     "name": "stdout",
     "output_type": "stream",
     "text": [
      "Values below 19.690480101250003 for Ramicane could be outliers.\n",
      "Values above 49.79900043124999 for Ramicane could be outliers.\n",
      "There are no Ramicane outliers.\n",
      "\n",
      "Values below 20.70456164999999 for Capomulin could be outliers.\n",
      "Values above 51.83201549 for Capomulin could be outliers.\n",
      "There are no Capomulin outliers.\n",
      "\n",
      "Values below 55.35777559500001 for Infubinol could be outliers.\n",
      "Values above 75.08224443499999 for Infubinol could be outliers.\n",
      "There are no Infubinol outliers.\n",
      "\n",
      "Values below 52.29350701999999 for Ceftamin could be outliers.\n",
      "Values above 76.66786758 for Ceftamin could be outliers.\n",
      "There are no Ceftamin outliers.\n"
     ]
    }
   ],
   "source": [
    "# Ramicane quartiles\n",
    "quartiles = np.quantile(ramicane, [.25,.5,.75])\n",
    "iqr = quartiles[2] - quartiles[0]\n",
    "lower_bound = quartiles[0] - (1.5 * iqr)\n",
    "upper_bound = quartiles[2] + (1.5 * iqr)\n",
    "print(f\"Values below {lower_bound} for Ramicane could be outliers.\")\n",
    "print(f\"Values above {upper_bound} for Ramicane could be outliers.\")\n",
    "# Determine if there are Ramicane outliers\n",
    "upper_outliers = [x for x in ramicane if x >= upper_bound]\n",
    "lower_outliers = [x for x in ramicane if x <= lower_bound]\n",
    "outliers = upper_outliers + lower_outliers\n",
    "if len(outliers) > 0:\n",
    "    print(f\"Ramicane outliers include {outliers}\")\n",
    "else:\n",
    "    print(\"There are no Ramicane outliers.\")\n",
    "print()\n",
    "\n",
    "# Capomulin quartiles\n",
    "quartiles = np.quantile(capomulin, [.25,.5,.75])\n",
    "iqr = quartiles[2] - quartiles[0]\n",
    "lower_bound = quartiles[0] - (1.5 * iqr)\n",
    "upper_bound = quartiles[2] + (1.5 * iqr)\n",
    "print(f\"Values below {lower_bound} for Capomulin could be outliers.\")\n",
    "print(f\"Values above {upper_bound} for Capomulin could be outliers.\")\n",
    "# Determine if there are Capomulin outliers\n",
    "upper_outliers = [x for x in capomulin if x >= upper_bound]\n",
    "lower_outliers = [x for x in capomulin if x <= lower_bound]\n",
    "outliers = upper_outliers + lower_outliers\n",
    "if len(outliers) > 0:\n",
    "    print(f\"Capomulin outliers include {outliers}\")\n",
    "else:\n",
    "    print(\"There are no Capomulin outliers.\")\n",
    "print()\n",
    "\n",
    "# Infubinol quartiles\n",
    "quartiles = np.quantile(infubinol, [.25,.5,.75])\n",
    "iqr = quartiles[2] - quartiles[0]\n",
    "lower_bound = quartiles[0] - (1.5 * iqr)\n",
    "upper_bound = quartiles[2] + (1.5 * iqr)\n",
    "print(f\"Values below {lower_bound} for Infubinol could be outliers.\")\n",
    "print(f\"Values above {upper_bound} for Infubinol could be outliers.\")\n",
    "# Determine if there are Infubinol outliers\n",
    "upper_outliers = [x for x in infubinol if x >= upper_bound]\n",
    "lower_outliers = [x for x in infubinol if x <= lower_bound]\n",
    "outliers = upper_outliers + lower_outliers\n",
    "if len(outliers) > 0:\n",
    "    print(f\"Infubinol outliers include {outliers}\")\n",
    "else:\n",
    "    print(\"There are no Infubinol outliers.\")\n",
    "print()\n",
    "\n",
    "# Ceftamin quartiles\n",
    "quartiles = np.quantile(ceftamin, [.25,.5,.75])\n",
    "iqr = quartiles[2] - quartiles[0]\n",
    "lower_bound = quartiles[0] - (1.5 * iqr)\n",
    "upper_bound = quartiles[2] + (1.5 * iqr)\n",
    "print(f\"Values below {lower_bound} for Ceftamin could be outliers.\")\n",
    "print(f\"Values above {upper_bound} for Ceftamin could be outliers.\")\n",
    "# Determine if there are Ceftamin outliers\n",
    "upper_outliers = [x for x in ceftamin if x >= upper_bound]\n",
    "lower_outliers = [x for x in ceftamin if x <= lower_bound]\n",
    "outliers = upper_outliers + lower_outliers\n",
    "if len(outliers) > 0:\n",
    "    print(f\"Ceftamin outliers include {outliers}\")\n",
    "else:\n",
    "    print(\"There are no Ceftamin outliers.\")"
   ]
  },
  {
   "cell_type": "code",
   "execution_count": 12,
   "metadata": {},
   "outputs": [
    {
     "data": {
      "image/png": "[encoded data removed]",
      "text/plain": [
       "<Figure size 432x288 with 1 Axes>"
      ]
     },
     "metadata": {
      "needs_background": "light"
     },
     "output_type": "display_data"
    }
   ],
   "source": [
    "# Boxplots\n",
    "fig1, tumor_plt = plt.subplots()\n",
    "tumor_plt.set_xlabel(\"Treatment Regimen\")\n",
    "tumor_plt.set_ylabel(\"Tumor Volume (mm3)\")\n",
    "tumor_plt.set_title(\"Tumor Volume per Treatment Regimen\")\n",
    "tumor_plt.boxplot([ramicane, capomulin, infubinol, ceftamin], labels=unique_treatments)\n",
    "plt.show()"
   ]
  },
  {
   "cell_type": "markdown",
   "metadata": {},
   "source": [
    "## Line and Scatter Plots"
   ]
  },
  {
   "cell_type": "code",
   "execution_count": 13,
   "metadata": {
    "scrolled": true
   },
   "outputs": [
    {
     "data": {
      "image/png": "[encoded data removed]",
      "text/plain": [
       "<Figure size 432x288 with 1 Axes>"
      ]
     },
     "metadata": {
      "needs_background": "light"
     },
     "output_type": "display_data"
    }
   ],
   "source": [
    "# Generate a line plot of time point versus tumor volume for a mouse treated with Capomulin\n",
    "\n",
    "# Filter the data\n",
    "x401 = merge_data[[\"Drug Regimen\", \"Mouse ID\", \"Timepoint\", \"Tumor Volume (mm3)\"]]\n",
    "x401 = x401.loc[(x401[\"Mouse ID\"] == \"x401\")]\n",
    "\n",
    "# Convert the dataframe series data to lists\n",
    "x401_xaxis = x401[\"Timepoint\"].tolist()\n",
    "x401_yaxis = x401[\"Tumor Volume (mm3)\"].tolist()\n",
    "\n",
    "# Create, set labels, and show the plot\n",
    "x401_plot = plt.plot(x401_xaxis, x401_yaxis)\n",
    "plt.xlabel(\"Timepoint\")\n",
    "plt.ylabel(\"Tumor Volume (mm3)\")\n",
    "plt.title(\"Capomulin Treatment Results for Mouse ID x401\")\n",
    "plt.show()"
   ]
  },
  {
   "cell_type": "markdown",
   "metadata": {},
   "source": [
    "## Correlation and Regression"
   ]
  },
  {
   "cell_type": "code",
   "execution_count": 14,
   "metadata": {},
   "outputs": [
    {
     "data": {
      "image/png": "[encoded data removed]",
      "text/plain": [
       "<Figure size 432x288 with 1 Axes>"
      ]
     },
     "metadata": {
      "needs_background": "light"
     },
     "output_type": "display_data"
    }
   ],
   "source": [
    "# Generate a scatter plot of mouse weight versus average tumor volume for the Capomulin regimen\n",
    "\n",
    "# Get the requisite data, filter it, and group by weight to get average tumor volume\n",
    "capomulin_data = merge_data.loc[merge_data[\"Drug Regimen\"] == \"Capomulin\"]\n",
    "capomulin_data = capomulin_data[[\"Weight (g)\", \"Tumor Volume (mm3)\"]]\n",
    "capomulin_data = capomulin_data.groupby([\"Weight (g)\"]).mean().reset_index()\n",
    "\n",
    "# Define the plot axes\n",
    "capo_xaxis = capomulin_data[\"Weight (g)\"]\n",
    "capo_yaxis = capomulin_data[\"Tumor Volume (mm3)\"]\n",
    "\n",
    "# Create, set labels, and show the plot\n",
    "capo_plot = plt.scatter(capo_xaxis, capo_yaxis)\n",
    "plt.xlabel(\"Mouse Weight (g)\")\n",
    "plt.ylabel(\"Average Tumor Volume (mm3)\")\n",
    "plt.title(\"Average Tumor Volume to Mouse Weight for the Capomulin Treatment Regimen\")\n",
    "plt.show()"
   ]
  },
  {
   "cell_type": "code",
   "execution_count": 15,
   "metadata": {
    "scrolled": true
   },
   "outputs": [
    {
     "data": {
      "image/png": "[encoded data removed]",
      "text/plain": [
       "<Figure size 432x288 with 1 Axes>"
      ]
     },
     "metadata": {
      "needs_background": "light"
     },
     "output_type": "display_data"
    }
   ],
   "source": [
    "# Calculate the correlation coefficient and linear regression model \n",
    "# for mouse weight and average tumor volume for the Capomulin regimen\n",
    "plt.scatter(capo_xaxis, capo_yaxis)\n",
    "plt.xlabel(\"Mouse Weight (g)\")\n",
    "plt.ylabel(\"Average Tumor Volume (mm3)\")\n",
    "plt.title(\"Average Tumor Volume to Mouse Weight for the Capomulin Treatment Regimen\")\n",
    "(slope, intercept, rvalue, pvalue, stderr) = linregress(capo_xaxis, capo_yaxis)\n",
    "regress_values = capo_xaxis * slope + intercept\n",
    "plt.plot(capo_xaxis, regress_values, \"r-\")\n",
    "plt.show()\n",
    "# line_eq = \"y = \" + str(round(slope,2)) + \"x + \" + str(round(intercept,2))"
   ]
  },
  {
   "cell_type": "code",
   "execution_count": null,
   "metadata": {},
   "outputs": [],
   "source": [
    "capo_xaxis.corr(capo_yaxis)"
   ]
  },
  {
   "cell_type": "code",
   "execution_count": null,
   "metadata": {},
   "outputs": [],
   "source": []
  },
  {
   "cell_type": "code",
   "execution_count": null,
   "metadata": {},
   "outputs": [],
   "source": []
  }
 ],
 "metadata": {
  "anaconda-cloud": {},
  "kernelspec": {
   "display_name": "Python [conda env:PythonData]",
   "language": "python",
   "name": "conda-env-PythonData-py"
  },
  "language_info": {
   "codemirror_mode": {
    "name": "ipython",
    "version": 3
   },
   "file_extension": ".py",
   "mimetype": "text/x-python",
   "name": "python",
   "nbconvert_exporter": "python",
   "pygments_lexer": "ipython3",
   "version": "3.6.10"
  }
 },
 "nbformat": 4,
 "nbformat_minor": 2
}
